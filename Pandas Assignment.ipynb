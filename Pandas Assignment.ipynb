{
 "cells": [
  {
   "cell_type": "code",
   "execution_count": null,
   "id": "05e6bfdf-e276-4217-84ae-06561094d90c",
   "metadata": {},
   "outputs": [],
   "source": [
    "import pandas as pd\n",
    "df = pd.read_csv(\"retail supermarket.csv\")"
   ]
  },
  {
   "cell_type": "markdown",
   "id": "d0a3cb50-7019-42f6-8b67-9cd1420d1b31",
   "metadata": {},
   "source": [
    "#### 1- Find record if Sales greater than 500 and Quantity greater than 5?"
   ]
  },
  {
   "cell_type": "code",
   "execution_count": null,
   "id": "cc2db6f9-e43d-44ca-bdc6-9d1a3ef5a6a1",
   "metadata": {},
   "outputs": [],
   "source": [
    "df[(df[\"Sales\"] > 500) & (df[\"Quantity\"] > 5)]"
   ]
  },
  {
   "cell_type": "markdown",
   "id": "ffe3b087-3750-4765-b93f-24529c775831",
   "metadata": {},
   "source": [
    "#### 2- Find records if Discount is more than 0.5 (50%) or Profit is negative."
   ]
  },
  {
   "cell_type": "code",
   "execution_count": null,
   "id": "e1f7a58a-9407-455d-b678-41411ae0cf5f",
   "metadata": {},
   "outputs": [],
   "source": [
    "df[(df[\"Discount\"] > 0.5) | (df[\"Profit\"] < 0)]"
   ]
  },
  {
   "cell_type": "markdown",
   "id": "84d7981b-4b80-47f0-8d7d-c70784db29a1",
   "metadata": {},
   "source": [
    "#### 3- Display Ship Mode and Profit columns if region is East using loc"
   ]
  },
  {
   "cell_type": "code",
   "execution_count": null,
   "id": "8b2ceda3-022e-4487-8ac0-db591e07f4aa",
   "metadata": {},
   "outputs": [],
   "source": [
    "df.loc[df[\"Region\"] == \"East\" , [\"Ship Mode\", \"Profit\"]]"
   ]
  },
  {
   "cell_type": "markdown",
   "id": "e7e32052-d0e9-4214-82e7-e3ee67995b86",
   "metadata": {},
   "source": [
    "#### 4- How many records belong to the \"Corporate\" segment and the \"Central\" region?"
   ]
  },
  {
   "cell_type": "code",
   "execution_count": null,
   "id": "ff4324e3-6dd0-496e-a1b2-b3b5cb72a2f4",
   "metadata": {},
   "outputs": [],
   "source": [
    "count = df[(df[\"Segment\"] == \"Corporate\") & (df[\"Region\"] == \"Central\")].shape[0]\n",
    "print(\"Total recorde is:\", count)"
   ]
  },
  {
   "cell_type": "markdown",
   "id": "dd7b611e-db7d-4c01-8484-3eb8e570c9aa",
   "metadata": {},
   "source": [
    "#### 5- Find all orders in the \"Furniture\" category but not in \"Chairs\" sub-category."
   ]
  },
  {
   "cell_type": "code",
   "execution_count": null,
   "id": "d0b4e68b-64f3-4fbd-bd81-d0c1fd0024ea",
   "metadata": {},
   "outputs": [],
   "source": [
    "df[~(df['Sub-Category'] == 'Chairs') & (df['Segment'] == 'Corporate')]"
   ]
  },
  {
   "cell_type": "markdown",
   "id": "dacbe3b3-0d5e-431a-ba91-11f4cd38c373",
   "metadata": {},
   "source": [
    "#### 6- Which orders have discount (>0.3) and still earned profit (>0)?"
   ]
  },
  {
   "cell_type": "code",
   "execution_count": null,
   "id": "da6fba32-c49e-443d-a863-79ee809ce209",
   "metadata": {},
   "outputs": [],
   "source": [
    "df[(df[\"Discount\"] > 0.3) & (df[\"Profit\"] > 0)]"
   ]
  },
  {
   "cell_type": "markdown",
   "id": "30244e9d-bcd9-4614-b9cb-89274e7a84cb",
   "metadata": {},
   "source": [
    "#### 7- Find high-profit orders where Quantity > 5 and Category == 'Technology'."
   ]
  },
  {
   "cell_type": "code",
   "execution_count": null,
   "id": "e11c9c48-16ac-4472-97ea-fb97814a034f",
   "metadata": {},
   "outputs": [],
   "source": [
    "df.loc[(df[\"Quantity\"] > 5) & (df[\"Category\"] == \"Technology\"), [\"Profit\", \"Quantity\", \"Category\"]]"
   ]
  },
  {
   "cell_type": "markdown",
   "id": "968b3e16-89e3-4c83-8076-544ceef3d8c4",
   "metadata": {},
   "source": [
    "#### 8- Select rows 0–4 and columns 'Ship Mode', 'Segment', 'Sales' by position using iloc"
   ]
  },
  {
   "cell_type": "code",
   "execution_count": null,
   "id": "8a5701c7-d9f5-43d4-b788-884f59dfe349",
   "metadata": {},
   "outputs": [],
   "source": [
    "df.iloc[0:5,[0,1,9]]"
   ]
  },
  {
   "cell_type": "markdown",
   "id": "6bfedd3c-29c8-4f8a-97e7-bbc570445a8f",
   "metadata": {},
   "source": [
    "#### 9- Show Home Office segment orders with Sales > 1000 and Quantity > 3."
   ]
  },
  {
   "cell_type": "code",
   "execution_count": null,
   "id": "79bee78f-0ae6-457b-8a7d-a3a63510a46f",
   "metadata": {},
   "outputs": [],
   "source": [
    "df[(df[\"Segment\"] == \"Home Office\") & (df[\"Sales\"] > 1000) & (df[\"Quantity\"] > 3)]"
   ]
  },
  {
   "cell_type": "markdown",
   "id": "caa0d9b9-555b-42d7-bb4c-3cc7f4f7bb1d",
   "metadata": {},
   "source": [
    "#### 10- Find orders where Profit Margin > 0.3\n",
    "\n",
    "Profit Margin = (Profit/Sales)"
   ]
  },
  {
   "cell_type": "code",
   "execution_count": null,
   "id": "dd9ec03f-f2fd-4d54-9034-11766ed0bea3",
   "metadata": {},
   "outputs": [],
   "source": [
    "df[\"Profit Margin\"] = df[\"Profit\"] / df[\"Sales\"] ##Ceate new colum for profit margin\n",
    "df\n",
    "df[(df[\"Profit Margin\"] > 0.3)]"
   ]
  }
 ],
 "metadata": {
  "kernelspec": {
   "display_name": "Python [conda env:base] *",
   "language": "python",
   "name": "conda-base-py"
  },
  "language_info": {
   "codemirror_mode": {
    "name": "ipython",
    "version": 3
   },
   "file_extension": ".py",
   "mimetype": "text/x-python",
   "name": "python",
   "nbconvert_exporter": "python",
   "pygments_lexer": "ipython3",
   "version": "3.13.5"
  }
 },
 "nbformat": 4,
 "nbformat_minor": 5
}
